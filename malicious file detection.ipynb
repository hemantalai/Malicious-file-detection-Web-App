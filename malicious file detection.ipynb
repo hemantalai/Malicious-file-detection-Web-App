{
  "nbformat": 4,
  "nbformat_minor": 0,
  "metadata": {
    "colab": {
      "name": "Spam/No Spam Classifier.ipynb",
      "version": "0.3.2",
      "provenance": []
    },
    "kernelspec": {
      "name": "python3",
      "display_name": "Python 3"
    }
  },
  "cells": [
    {
      "cell_type": "code",
      "metadata": {
        "id": "id78r8-sXAg5",
        "colab_type": "code",
        "colab": {}
      },
      "source": [
        "#import dependencies\n",
        "import numpy as np\n",
        "import pandas as pd\n",
        "from sklearn.model_selection import train_test_split as tts\n",
        "from sklearn.feature_extraction.text import CountVectorizer\n",
        "from sklearn.feature_extraction.text import TfidfVectorizer\n",
        "from sklearn.naive_bayes import MultinomialNB"
      ],
      "execution_count": 0,
      "outputs": []
    },
    {
      "cell_type": "code",
      "metadata": {
        "id": "CnkUPf0LXKki",
        "colab_type": "code",
        "colab": {}
      },
      "source": [
        "#upload file\n",
        "df = pd.read_csv('spam - spam.csv',sep = ',', names = ['label', 'message'] )\n",
        "df = df.drop([0])"
      ],
      "execution_count": 0,
      "outputs": []
    },
    {
      "cell_type": "code",
      "metadata": {
        "id": "i5BsE5FbDsZN",
        "colab_type": "code",
        "outputId": "22503db9-197b-4cea-b450-35a8cde85874",
        "colab": {
          "base_uri": "https://localhost:8080/",
          "height": 194
        }
      },
      "source": [
        "df.head()"
      ],
      "execution_count": 36,
      "outputs": [
        {
          "output_type": "execute_result",
          "data": {
            "text/html": [
              "<div>\n",
              "<style scoped>\n",
              "    .dataframe tbody tr th:only-of-type {\n",
              "        vertical-align: middle;\n",
              "    }\n",
              "\n",
              "    .dataframe tbody tr th {\n",
              "        vertical-align: top;\n",
              "    }\n",
              "\n",
              "    .dataframe thead th {\n",
              "        text-align: right;\n",
              "    }\n",
              "</style>\n",
              "<table border=\"1\" class=\"dataframe\">\n",
              "  <thead>\n",
              "    <tr style=\"text-align: right;\">\n",
              "      <th></th>\n",
              "      <th>label</th>\n",
              "      <th>message</th>\n",
              "    </tr>\n",
              "  </thead>\n",
              "  <tbody>\n",
              "    <tr>\n",
              "      <th>1</th>\n",
              "      <td>Not Malicious</td>\n",
              "      <td>Go until jurong point, crazy.. Available only ...</td>\n",
              "    </tr>\n",
              "    <tr>\n",
              "      <th>2</th>\n",
              "      <td>Not Malicious</td>\n",
              "      <td>Ok lar... Joking wif u oni...</td>\n",
              "    </tr>\n",
              "    <tr>\n",
              "      <th>3</th>\n",
              "      <td>Malicious</td>\n",
              "      <td>Free entry in 2 a wkly comp to win FA Cup fina...</td>\n",
              "    </tr>\n",
              "    <tr>\n",
              "      <th>4</th>\n",
              "      <td>Not Malicious</td>\n",
              "      <td>U dun say so early hor... U c already then say...</td>\n",
              "    </tr>\n",
              "    <tr>\n",
              "      <th>5</th>\n",
              "      <td>Not Malicious</td>\n",
              "      <td>Nah I don't think he goes to usf, he lives aro...</td>\n",
              "    </tr>\n",
              "  </tbody>\n",
              "</table>\n",
              "</div>"
            ],
            "text/plain": [
              "           label                                            message\n",
              "1  Not Malicious  Go until jurong point, crazy.. Available only ...\n",
              "2  Not Malicious                      Ok lar... Joking wif u oni...\n",
              "3      Malicious  Free entry in 2 a wkly comp to win FA Cup fina...\n",
              "4  Not Malicious  U dun say so early hor... U c already then say...\n",
              "5  Not Malicious  Nah I don't think he goes to usf, he lives aro..."
            ]
          },
          "metadata": {
            "tags": []
          },
          "execution_count": 36
        }
      ]
    },
    {
      "cell_type": "code",
      "metadata": {
        "id": "XXr_5RN3Y3xh",
        "colab_type": "code",
        "colab": {}
      },
      "source": [
        "#change the labels\n",
        "df.loc[df['label'] == 'Not Malicious', \"label\", ] = 1\n",
        "df.loc[df['label'] == 'Malicious', \"label\", ] = 0\n"
      ],
      "execution_count": 0,
      "outputs": []
    },
    {
      "cell_type": "code",
      "metadata": {
        "id": "SE5_XOcqEGpc",
        "colab_type": "code",
        "outputId": "eadf640c-ff77-4919-f632-30481ad1c42f",
        "colab": {
          "base_uri": "https://localhost:8080/",
          "height": 194
        }
      },
      "source": [
        "df.head()"
      ],
      "execution_count": 38,
      "outputs": [
        {
          "output_type": "execute_result",
          "data": {
            "text/html": [
              "<div>\n",
              "<style scoped>\n",
              "    .dataframe tbody tr th:only-of-type {\n",
              "        vertical-align: middle;\n",
              "    }\n",
              "\n",
              "    .dataframe tbody tr th {\n",
              "        vertical-align: top;\n",
              "    }\n",
              "\n",
              "    .dataframe thead th {\n",
              "        text-align: right;\n",
              "    }\n",
              "</style>\n",
              "<table border=\"1\" class=\"dataframe\">\n",
              "  <thead>\n",
              "    <tr style=\"text-align: right;\">\n",
              "      <th></th>\n",
              "      <th>label</th>\n",
              "      <th>message</th>\n",
              "    </tr>\n",
              "  </thead>\n",
              "  <tbody>\n",
              "    <tr>\n",
              "      <th>1</th>\n",
              "      <td>1</td>\n",
              "      <td>Go until jurong point, crazy.. Available only ...</td>\n",
              "    </tr>\n",
              "    <tr>\n",
              "      <th>2</th>\n",
              "      <td>1</td>\n",
              "      <td>Ok lar... Joking wif u oni...</td>\n",
              "    </tr>\n",
              "    <tr>\n",
              "      <th>3</th>\n",
              "      <td>0</td>\n",
              "      <td>Free entry in 2 a wkly comp to win FA Cup fina...</td>\n",
              "    </tr>\n",
              "    <tr>\n",
              "      <th>4</th>\n",
              "      <td>1</td>\n",
              "      <td>U dun say so early hor... U c already then say...</td>\n",
              "    </tr>\n",
              "    <tr>\n",
              "      <th>5</th>\n",
              "      <td>1</td>\n",
              "      <td>Nah I don't think he goes to usf, he lives aro...</td>\n",
              "    </tr>\n",
              "  </tbody>\n",
              "</table>\n",
              "</div>"
            ],
            "text/plain": [
              "  label                                            message\n",
              "1     1  Go until jurong point, crazy.. Available only ...\n",
              "2     1                      Ok lar... Joking wif u oni...\n",
              "3     0  Free entry in 2 a wkly comp to win FA Cup fina...\n",
              "4     1  U dun say so early hor... U c already then say...\n",
              "5     1  Nah I don't think he goes to usf, he lives aro..."
            ]
          },
          "metadata": {
            "tags": []
          },
          "execution_count": 38
        }
      ]
    },
    {
      "cell_type": "code",
      "metadata": {
        "id": "XjBR0nmcbS87",
        "colab_type": "code",
        "colab": {}
      },
      "source": [
        "#Separating x and y\n",
        "df_x = df['message']\n",
        "df_y = df['label']\n"
      ],
      "execution_count": 0,
      "outputs": []
    },
    {
      "cell_type": "code",
      "metadata": {
        "id": "x0fyBVOYEWal",
        "colab_type": "code",
        "colab": {}
      },
      "source": [
        "x_train, x_test, y_train, y_test = tts(df_x, df_y, test_size = 0.2)"
      ],
      "execution_count": 0,
      "outputs": []
    },
    {
      "cell_type": "code",
      "metadata": {
        "id": "Rpedv3BugFTS",
        "colab_type": "code",
        "colab": {}
      },
      "source": [
        "#create an object of count vectorizer\n",
        "\n",
        "cv = CountVectorizer()"
      ],
      "execution_count": 0,
      "outputs": []
    },
    {
      "cell_type": "code",
      "metadata": {
        "id": "iRP6TUwAhdue",
        "colab_type": "code",
        "colab": {}
      },
      "source": [
        "#vectorize the bag of words generated\n",
        "x_train_new = (cv.fit_transform(x_train)).toarray()\n",
        "x_test_new = (cv.transform(x_test)).toarray()"
      ],
      "execution_count": 0,
      "outputs": []
    },
    {
      "cell_type": "code",
      "metadata": {
        "id": "uU-S6ZFUkOZm",
        "colab_type": "code",
        "outputId": "6b2b4bc5-42c8-4512-b11f-5246d3778220",
        "colab": {
          "base_uri": "https://localhost:8080/",
          "height": 70
        }
      },
      "source": [
        "#check the size of arrays generated\n",
        "print(df_x.shape)\n",
        "print(x_test_new.shape)\n",
        "print(x_train_new.shape)"
      ],
      "execution_count": 44,
      "outputs": [
        {
          "output_type": "stream",
          "text": [
            "(5572,)\n",
            "(1115, 7697)\n",
            "(4457, 7697)\n"
          ],
          "name": "stdout"
        }
      ]
    },
    {
      "cell_type": "code",
      "metadata": {
        "id": "rif-Xl7DlJ7D",
        "colab_type": "code",
        "outputId": "c76147c7-53bc-46da-fd65-c847ee37ea0a",
        "colab": {
          "base_uri": "https://localhost:8080/",
          "height": 35
        }
      },
      "source": [
        "#show the frequencies generated\n",
        "cv.inverse_transform(x_test_new[0])\n"
      ],
      "execution_count": 45,
      "outputs": [
        {
          "output_type": "execute_result",
          "data": {
            "text/plain": [
              "[array(['and', 'hmm', 'lol', 'sighs'], dtype='<U28')]"
            ]
          },
          "metadata": {
            "tags": []
          },
          "execution_count": 45
        },
        {
          "output_type": "execute_result",
          "data": {
            "text/plain": [
              "[array(['and', 'hmm', 'lol', 'sighs'], dtype='<U28')]"
            ]
          },
          "metadata": {
            "tags": []
          },
          "execution_count": 46
        }
      ]
    },
    {
      "cell_type": "code",
      "metadata": {
        "id": "6r4yynTtGZ0y",
        "colab_type": "code",
        "outputId": "1ce9a5ee-c143-4a27-d805-90c7fedeb718",
        "colab": {
          "base_uri": "https://localhost:8080/",
          "height": 35
        }
      },
      "source": [
        "x_test_new[0]"
      ],
      "execution_count": 47,
      "outputs": [
        {
          "output_type": "execute_result",
          "data": {
            "text/plain": [
              "array([0, 0, 0, ..., 0, 0, 0])"
            ]
          },
          "metadata": {
            "tags": []
          },
          "execution_count": 47
        }
      ]
    },
    {
      "cell_type": "code",
      "metadata": {
        "id": "nyvOg_PSmHJZ",
        "colab_type": "code",
        "colab": {}
      },
      "source": [
        "#fitting the model\n",
        "nbc = MultinomialNB()"
      ],
      "execution_count": 0,
      "outputs": []
    },
    {
      "cell_type": "code",
      "metadata": {
        "id": "wNtkVk0yHY-Z",
        "colab_type": "code",
        "outputId": "f95e9d26-3b48-4590-9d20-2f3072f7ce36",
        "colab": {
          "base_uri": "https://localhost:8080/",
          "height": 35
        }
      },
      "source": [
        "nbc.fit(x_train_new, y_train.astype('int'))"
      ],
      "execution_count": 49,
      "outputs": [
        {
          "output_type": "execute_result",
          "data": {
            "text/plain": [
              "MultinomialNB(alpha=1.0, class_prior=None, fit_prior=True)"
            ]
          },
          "metadata": {
            "tags": []
          },
          "execution_count": 49
        }
      ]
    },
    {
      "cell_type": "code",
      "metadata": {
        "id": "TVKzOzGAHo-O",
        "colab_type": "code",
        "colab": {}
      },
      "source": [
        "predict = nbc.predict(x_test_new)"
      ],
      "execution_count": 0,
      "outputs": []
    },
    {
      "cell_type": "code",
      "metadata": {
        "id": "G48HMEECmsWj",
        "colab_type": "code",
        "colab": {}
      },
      "source": [
        "#find out predictions tht can be achieved in this model\n",
        "count = 0\n",
        "pred = np.asarray(predict)\n",
        "ytt = np.asarray(y_test)\n",
        "for pr, yt in zip(pred, ytt):\n",
        "  if pr == yt:\n",
        "    count += 1\n",
        "    "
      ],
      "execution_count": 0,
      "outputs": []
    },
    {
      "cell_type": "code",
      "metadata": {
        "id": "yU5LX3OhIcMq",
        "colab_type": "code",
        "outputId": "0b320e8f-e13b-404b-bcf9-b3b42cf559ce",
        "colab": {
          "base_uri": "https://localhost:8080/",
          "height": 35
        }
      },
      "source": [
        "print(\"accuracy:\", np.ceil((count/np.size(y_test))*100))"
      ],
      "execution_count": 52,
      "outputs": [
        {
          "output_type": "stream",
          "text": [
            "accuracy: 99.0\n"
          ],
          "name": "stdout"
        }
      ]
    },
    {
      "cell_type": "code",
      "metadata": {
        "id": "nWQvozS6wkq5",
        "colab_type": "code",
        "colab": {}
      },
      "source": [
        "validation_text = [\"Dear Sir, tou have been selected for the HR interview round. Please report our Bangalore office by Monday.\"]\n",
        "validation_text_array = (cv.transform(validation_text)).toarray()\n",
        "val_text_pred = nbc.predict(validation_text_array)"
      ],
      "execution_count": 0,
      "outputs": []
    },
    {
      "cell_type": "code",
      "metadata": {
        "id": "h6u1xGPRwwbb",
        "colab_type": "code",
        "colab": {
          "base_uri": "https://localhost:8080/",
          "height": 35
        },
        "outputId": "f05d64aa-93f9-4e68-bfb6-b3c8c9ee1804"
      },
      "source": [
        "if val_text_pred == 1:\n",
        "  print(\"Hurrah... Your input message is NOT MALICIOUS\")\n",
        "\n",
        "elif val_text_pred == 0:\n",
        "  print(\"Oops... Your input message is MALICIOUS. Be Aware.\")\n",
        "\n",
        "else:\n",
        "  print(\"Can not be detected\")"
      ],
      "execution_count": 70,
      "outputs": [
        {
          "output_type": "stream",
          "text": [
            "Hurrah... Your input message is NOT MALICIOUS\n"
          ],
          "name": "stdout"
        }
      ]
    }
  ]
}